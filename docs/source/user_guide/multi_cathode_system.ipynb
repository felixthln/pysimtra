{
 "cells": [
  {
   "cell_type": "markdown",
   "id": "cc2a3087-3c88-4843-86da-6a16b027e4df",
   "metadata": {},
   "source": [
    "# Define a Multi-cathode system\n",
    "\n",
    "This guide describes how to set up an exemplary multi-cathode system programmatically."
   ]
  },
  {
   "cell_type": "code",
   "execution_count": null,
   "id": "ea427ae8-eee3-45f8-b298-1a08873c48fb",
   "metadata": {},
   "outputs": [],
   "source": [
    "import numpy as np\n",
    "import matplotlib.pyplot as plt\n",
    "import pysimtra as ps"
   ]
  },
  {
   "cell_type": "markdown",
   "id": "9e2c8438-5711-44be-a0d5-367f7325af31",
   "metadata": {},
   "source": [
    "**Note: before starting, make sure that the SIMTRA application was imported into pySIMTRA**\n",
    "\n",
    "If not done, use the following method which copies the *SIMTRA* executable (and some other files crucial for the execution) into the package folder. This only needs to be done ONCE. Calling this method later again will replace the already existing copied files."
   ]
  },
  {
   "cell_type": "code",
   "execution_count": null,
   "id": "a6d67be9-e479-479a-88c7-82950ad6fcb4",
   "metadata": {},
   "outputs": [],
   "source": [
    "# Define the path to the SIMTRA application folder\n",
    "sim_path = 'path/to/simtra/directory'\n",
    "# Import the application into the package\n",
    "ps.import_exe(sim_path)"
   ]
  },
  {
   "cell_type": "markdown",
   "id": "38234339-16e5-42fa-94fc-46be115e10a7",
   "metadata": {},
   "source": [
    "## Set up the chamber\n",
    "\n",
    "The `Chamber` object holds general information about the environment like the temperature and pressure. Either a cylindrical or rectangular chamber can be defined. All units in *SIMTRA* are SI units. Here we will create a cylindrical chamber with a radius of 120 mm and length of 180 mm."
   ]
  },
  {
   "cell_type": "code",
   "execution_count": null,
   "id": "34581845-7fed-49db-a8fe-388fafb267ec",
   "metadata": {},
   "outputs": [],
   "source": [
    "# Create a cylindrical sputter chamber\n",
    "ch = ps.Chamber.cylindrical(radius=0.12, length=0.18, temperature=293, pressure=0.5)"
   ]
  },
  {
   "cell_type": "markdown",
   "id": "bb228c02-c6f8-4260-a224-6af5b246a066",
   "metadata": {},
   "source": [
    "## Set up the magnetrons\n",
    "\n",
    "The `Magnetron` object holds further parameters of the deposition, like the transported element and the number of particles to simulate. Its geometry is defined via a `DummyObject`, which needs to be built from individual surfaces. Here, we use the same standard axialsymmetric magnetron with a circular target as for the single-cathode system. The only difference is that they will be arranged on a circle and tilted inwards by 10° as with a typical co-sputter setup. The racetracks are taken from the racetrack database which can be found on [GitHub](https://github.com/felixthln/pysimtra)."
   ]
  },
  {
   "cell_type": "code",
   "execution_count": null,
   "id": "f6dbd871-2ca0-4a0f-bd0a-aa86fa05726e",
   "metadata": {},
   "outputs": [],
   "source": [
    "# Construct the magnetron will be identical to the example of the single-cathode system\n",
    "target = ps.Circle(name='target', radius=0.0191, position=(0, 0, 0.055))\n",
    "shield = ps.Cone(name='shield', small_rho=0.0191, big_rho=0.023, height=0.005, position=(0, 0, 0.055))\n",
    "cap = ps.Circle(name='cap', radius=0.03, position=(0, 0, 0.06))\n",
    "cap.perforate(by='circle', radius=0.023)\n",
    "body = ps.Cylinder(name='body', radius=0.03, height=0.06)\n",
    "# Define the elements and ion energies to use (depends on the power supply)\n",
    "e_ion = {'Ni': 54, 'Ru': 262, 'Pt': 305, 'Pd': 270}\n",
    "# The chamber will have four cathodes positioned on an \"anker circle\" and with an identical tilt\n",
    "cat_pos = {'Ni': 45, 'Ru': 135, 'Pt': -135, 'Pd': -45}  # °\n",
    "r_anker, cat_tilt = 0.06, 10  # m, °\n",
    "# Create a magnetron for each element\n",
    "mags: list[ps.Magnetron] = []\n",
    "for i, elem in enumerate(e_ion.keys(), 1):\n",
    "    # Calculate the position (in m) and orientation (in °)\n",
    "    pos = np.cos(np.radians(cat_pos[elem])) * r_anker, np.sin(np.radians(cat_pos[elem])) * r_anker, 0\n",
    "    orien = cat_pos[elem], -cat_tilt, 0\n",
    "    # Create the dummy object from the surfaces\n",
    "    m_object = ps.DummyObject(name='mag_%d' % i, surfaces=[target, shield, cap, body], position=pos, orientation=orien)\n",
    "    # Define a path to the racetrack file\n",
    "    r_path = 'racetracks/%s_racetrack_1.5_inch.txt' % elem\n",
    "    # Construct the magnetron\n",
    "    mag = ps.Magnetron(transported_element=elem, m_object=m_object, n_particles=10**8, \n",
    "                       sputter_surface_index=1, racetrack_file_path=r_path, max_ion_energy=e_ion[elem])\n",
    "    # Store the new magnetron to assign it later to the sputter system\n",
    "    mags.append(mag)"
   ]
  },
  {
   "cell_type": "markdown",
   "id": "f8ee6a2f-020f-4bba-8f73-6fc65917e68b",
   "metadata": {},
   "source": [
    "## Set up the dummy object(s)\n",
    "\n",
    "`DummyObject`s are objects without emitting a particle flux. Instead, they allow to track the number of particles hitting their surface. That is why we will define a `DummyObject` to track the number of particles sputtered onto an exemplary substrate. The tracking of the particles can be enabled by setting `save_avg_data=True` and providing an averaging grid by setting `avg_grid`. In this case, the substrate only consists of a single surface. The dummy object defined here is also identical to the one used for the single-cathode system."
   ]
  },
  {
   "cell_type": "code",
   "execution_count": null,
   "id": "798adcbe-0e0d-4a9b-9ee5-58bf1bad4ff7",
   "metadata": {},
   "outputs": [],
   "source": [
    "# Define the size of the substrate (this is reused later when plotting the results)\n",
    "s_dx, s_dy = 0.05, 0.05\n",
    "# Create a rectangle to track the particles arrival\n",
    "s_surf = ps.Rectangle(name='subSurface', dx=s_dx, dy=s_dy, save_avg_data=True, avg_grid=(200, 100))\n",
    "# Wrap the rectangle into a dummy object\n",
    "sub = ps.DummyObject(name='substrate', surfaces=[s_surf], position=(0, 0, 0.15))"
   ]
  },
  {
   "cell_type": "markdown",
   "id": "b4aa12ec-8de4-4b7c-ba21-5be91b69d560",
   "metadata": {},
   "source": [
    "## Define the sputter system\n",
    "\n",
    "Finally, the `SputterSystem` can be defined from the `Chamber`, `Magnetron` and `DummyObject`(s). Additionally, an output path needs to be provided, to which the simulation results will be saved. Instead of passing only one magnetron, now a list of `Magnetrons` needs to be passed."
   ]
  },
  {
   "cell_type": "code",
   "execution_count": null,
   "id": "6040728d-36d5-4df8-9881-b683df7a49e9",
   "metadata": {},
   "outputs": [],
   "source": [
    "# Define an output path for the simulation\n",
    "out_path = 'C:/Users/Felix/Desktop/sim_result'\n",
    "# Creating the sputter system is identical to a single-cathode system, just pass a list of magnetrons rather than a single one\n",
    "system = ps.SputterSystem(ch, mags, sub, out_path)"
   ]
  },
  {
   "cell_type": "markdown",
   "id": "c8280621-0774-4b66-b952-3ede8be15fac",
   "metadata": {},
   "source": [
    "## Saving the sputter system\n",
    "\n",
    "Also a `SputterSystem` with multiple magnetrons can be exported, but this needs to be done to multiple \".sin\" files since a single file can only hold one magnetron. When doing that, the remaining magnetrons are automatically converted to `DummyObjects`, so they are still considered in the simulation."
   ]
  },
  {
   "cell_type": "code",
   "execution_count": null,
   "id": "60427ae3-15ae-4b38-9339-756df4aee84d",
   "metadata": {},
   "outputs": [],
   "source": [
    "# Save sputter system with the first magnetron as a sin file. In the cell above we defined the first magnetron as \"mag_1\", therefore this name needs to \n",
    "# be used\n",
    "system.to_sin(path='C:/Users/Felix/Desktop/res.sin', mag_name='mag_1')"
   ]
  },
  {
   "cell_type": "markdown",
   "id": "d39a9195-fb07-4611-8291-b0f31dd74fef",
   "metadata": {},
   "source": [
    "## Perform a simulation and plot the results\n",
    "\n",
    "To perform a simulation, only the `simulate()` method needs to be called. As the package is based on a Windows executable, **this part only works on Windows operating systems**. This is powered by multithreading and depending on the number of cores of your CPU, the simulations are run in parallel. "
   ]
  },
  {
   "cell_type": "code",
   "execution_count": null,
   "id": "4c290e35-36bf-4063-a2de-b7b2a01f10f9",
   "metadata": {},
   "outputs": [],
   "source": [
    "# Start the simulation\n",
    "results = system.simulate()\n",
    "# Alternatively, by passing a list to the optional parameter \"magnetrons\", a subset of magnetrons can be simulated, e.g.\n",
    "# results = system.simulate(magnetrons=['mag_2', 'mag_4'])"
   ]
  },
  {
   "cell_type": "markdown",
   "id": "32580d78-fc7a-4f65-b120-fb1616c8f13f",
   "metadata": {},
   "source": "Plotting the results is also very similar to the single-magnetron system. There will be one `SimtraOutput` object per magnetron. The order is identical to the order of the list provided when the `SputterSystem` object was created. When the `magnetrons` paramater was used when the simulation was started, the order of outputs corresponds to the order of magnetron names passed to this parameter. "
  },
  {
   "cell_type": "code",
   "execution_count": null,
   "id": "5fa67954-6c93-4f11-9d5a-6433214fa38f",
   "metadata": {},
   "outputs": [],
   "source": [
    "# Create a plot with as many subplots as there are outputs\n",
    "fig, ax = plt.subplots(1, len(results), figsize=(len(results) * 5, 4))\n",
    "\n",
    "# Iterate over the elements and load plot simulation result\n",
    "for i, elem in enumerate(e_ion.keys()):\n",
    "    # Get the number of particles sputtered onto the substrate identical to the single-magnetron system\n",
    "    n_p = results[i].n_particles['substrate']\n",
    "    # Create a meshgrid for also displaying x and y values (also identical)\n",
    "    x = np.linspace(-s_dx, s_dx, n_p.shape[1])\n",
    "    y = np.linspace(-s_dx, s_dx, n_p.shape[0])\n",
    "    X, Y = np.meshgrid(x, y)\n",
    "    # Plot the particle distribution\n",
    "    pc = ax[i].pcolormesh(X, Y, n_p)\n",
    "    # Add axes labels\n",
    "    ax[i].set_xlabel('x [m]')\n",
    "    ax[i].set_ylabel('y [m]')\n",
    "    # Add a title showing the sputtered elements\n",
    "    ax[i].set_title(elem)\n",
    "    # Add a colorbar\n",
    "    fig.colorbar(pc, ax=ax[i], label='number of particles')\n",
    "\n",
    "# Adjust layout and show the plot\n",
    "fig.tight_layout()\n",
    "plt.show()"
   ]
  },
  {
   "metadata": {},
   "cell_type": "markdown",
   "source": "This section showed how a multi-cathode sputter system can be defined. To learn more about the used classed and methods, see the API reference section.",
   "id": "db2a39ebb505bc17"
  }
 ],
 "metadata": {
  "kernelspec": {
   "display_name": "Python 3 (ipykernel)",
   "language": "python",
   "name": "python3"
  },
  "language_info": {
   "codemirror_mode": {
    "name": "ipython",
    "version": 3
   },
   "file_extension": ".py",
   "mimetype": "text/x-python",
   "name": "python",
   "nbconvert_exporter": "python",
   "pygments_lexer": "ipython3",
   "version": "3.11.0"
  }
 },
 "nbformat": 4,
 "nbformat_minor": 5
}
