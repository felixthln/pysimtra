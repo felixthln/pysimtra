{
 "cells": [
  {
   "cell_type": "markdown",
   "id": "7031dd83-2511-4dfb-a2b6-d4583c8a6cea",
   "metadata": {},
   "source": [
    "# Subclassing in pySIMTRA\n",
    "\n",
    "This guide describes how to use subclassing of the pySIMTRA classes to extend the functionality of the package in order to adjust the deposition model to further resemble your sputter system. The same multi-cathode sputter system as described in the guide `Define a Multi-cathode system` will be used here. We will start by defining a custom magnetron, which will later be used in a custom sputter system class. \n",
    "\n",
    "As with the other guides, we will start with importing the required packages and to make sure the SIMTRA executable was assigned to the python package:"
   ]
  },
  {
   "cell_type": "code",
   "execution_count": 5,
   "id": "daf8235b-0ce7-482f-9580-7567f9f3bc1d",
   "metadata": {},
   "outputs": [],
   "source": [
    "import numpy as np\n",
    "import matplotlib.pyplot as plt\n",
    "from pymatgen.core.periodic_table import Element  # needed to get the density and atomic mass for an element\n",
    "import pysimtra as ps\n",
    "\n",
    "# Import the classes which are later subclassed for type hinting\n",
    "from pysimtra import Magnetron, SputterSystem"
   ]
  },
  {
   "cell_type": "code",
   "execution_count": null,
   "id": "0fdd953b-aac2-4705-b3ed-f4142745434c",
   "metadata": {},
   "outputs": [],
   "source": [
    "# Define the path to the SIMTRA application folder\n",
    "sim_path = 'C:/Users/Felix/Desktop/simtra_v2.2'\n",
    "# Import the application into the package\n",
    "ps.import_exe(sim_path)"
   ]
  },
  {
   "cell_type": "markdown",
   "id": "867d913a-ff08-4778-814b-8de2dd0a0736",
   "metadata": {},
   "source": [
    "## Define a custom magnetron\n",
    "\n",
    "First, we define a custom magnetron. This can be handy in a sputter system with multiple identical cathodes. This way, all constant parameters can be conveniently hidden in the class, and only the frequently changed parameters can be exposed via the custom class. In this example, we try to infer the racetrack file from the defined sputtered element. Make sure to replace the path with your local one and make sure that the file exists when replicating this example."
   ]
  },
  {
   "cell_type": "code",
   "execution_count": 4,
   "id": "bb74536f-eadf-4178-98a9-c6c0bee94b71",
   "metadata": {},
   "outputs": [],
   "source": [
    "# Define the custom magnetron, subclass the original pySIMTRA class\n",
    "class CustomMagnetron(Magnetron):\n",
    "\n",
    "    def __init__(self, name: str, pos: float, tilt: float, elem: str = None, n_particles: int = 10 ** 8):\n",
    "\n",
    "        \"\"\"\n",
    "        Class for a custom magnetron. The class defines a magnetron object based on a reduced number of parameters, e.g. the \n",
    "        racetrack path is generated from the element.\n",
    "        \n",
    "        :param name: name of the magnetron (ideally in camelCase)\n",
    "        :param pos: cathode position (in °) on the \"anker circle\"\n",
    "        :param tilt: cathode tilt (in °)\n",
    "        :param elem: element to be sputtered\n",
    "        :param n_particles: number of particles to simulation, defaults to 10**8\n",
    "        \"\"\"\n",
    "\n",
    "        # Construct the magnetron from circles, cones and cylinders\n",
    "        target = ps.Circle(name='target', radius=0.0191, position=(0, 0, 0.055))\n",
    "        shield = ps.Cone(name='shield', small_rho=0.0191, big_rho=0.023, height=0.005, position=(0, 0, 0.055))\n",
    "        cap = ps.Circle(name='cap', radius=0.03, position=(0, 0, 0.06))\n",
    "        cap.perforate(by='circle', radius=0.023)\n",
    "        body = ps.Cylinder(name='body', radius=0.03, height=0.06)\n",
    "        # Define the anker radius (identical to the multi-cathode guide)\n",
    "        r_anker = 0.06\n",
    "        # Calculate the position (in m) and orientation (in °)\n",
    "        pos = np.cos(np.radians(pos)) * r_anker, np.sin(np.radians(pos)) * r_anker, 0\n",
    "        orien = pos, -tilt, 0\n",
    "        # Create the dummy object from the surfaces\n",
    "        m_object = ps.DummyObject(name=name, surfaces=[target, shield, cap, body], position=pos, orientation=orien)\n",
    "        # Define a path to the racetrack file\n",
    "        r_path = 'racetracks/%s_racetrack_1.5_inch.txt' % element\n",
    "        # Construct the class by calling the superclass\n",
    "        super().__init__(transported_element=elem, m_object=m_object, n_particles=n_particles, sputter_surface_index=1, \n",
    "                         racetrack_file_path=r_path)"
   ]
  },
  {
   "cell_type": "markdown",
   "id": "4c99b7cb-cc85-4679-8322-dfba86cdf58e",
   "metadata": {},
   "source": [
    "## Define a custom sputter system\n",
    "\n",
    "The same multi-cathode sputter system as described in the `Define a Multi-cathode system` guide. The class will also use the custom magnetron class defined above. Since the sputter system works with mTorr instead of Pa, we will expose the pressure in mTorr to the class and internally convert to SI units to improve useability. Often, sputter systems allow for the adjustment of the cathode tilt via an adjustment screw. Therefore, as an example, we will expose the scale reading to the user and convert to a tilt in ° internally. To keep the tutorial simple, we won't cover complete error handling of inputs here. "
   ]
  },
  {
   "cell_type": "code",
   "execution_count": null,
   "id": "31112e5c-0dd6-43af-abf9-c0b83132faad",
   "metadata": {},
   "outputs": [],
   "source": [
    "class CustomSputterSystem(SputterSystem):\n",
    "\n",
    "    def __init__(self, elements: dict[int, str], output_path: str, tilt: float = 20, pressure: float = 3.7, n_particles: int = 10 ** 8):\n",
    "\n",
    "        \"\"\"\n",
    "        Creates a custom four-cathode sputter system.\n",
    "\n",
    "        :param elements: materials in the sputtering chamber given by the cathode number (beginning at 1) and the element symbol name\n",
    "        :param output_path: path at which the simulation results will be stored\n",
    "        :param tilt: cathode tilt in mm as visible on the screws, defaults to 20 mm which equals 10°\n",
    "        :param pressure: pressure in mTorr used for sputtering, defaults to 3.7 mTorr\n",
    "        :param n_particles: number of particles to simulate, defaults to 10**8\n",
    "        \"\"\"\n",
    "\n",
    "        # Create a cylindrical sputter chamber, convert from Pa to mTorr\n",
    "        chamber = Chamber.cylindrical(radius=0.12, length=0.18, temperature=293.15, pressure=0.13332 * pressure)\n",
    "        # The chamber will have four cathodes positioned on an \"anker circle\" and with an identical tilt\n",
    "        cat_pos = {1: 45, 2: 135, 3: -135, 4: -45}  # °\n",
    "        # Convert the tilt on the adjustment screw to actual cathode tilt\n",
    "        t_deg = tilt / 2  # °\n",
    "        # Create a magnetron for each element\n",
    "        mags: list[ps.Magnetron] = []\n",
    "        for i, pos in cat_pos.items():\n",
    "            # Create the custom magnetron\n",
    "            mag = CustomMagnetron(name'mag_%d' % i, pos, t_deg, elements[i], n_particles)\n",
    "            mags.append(mag)\n",
    "        # Define the substrate which also will be the same for all depositions (identical to the previous guide)\n",
    "        # Convert the table height parameter to the actual position in the chamber\n",
    "        s_surf = ps.Rectangle(name='subSurface', dx=0.05, dy=0.05, save_avg_data=True, avg_grid=(21, 21))\n",
    "        substrate = ps.DummyObject(name='substrate', surfaces=[s_surf], position=(0, 0, 0.2 - table_height))\n",
    "        # Initialize the superclass\n",
    "        super().__init__(chamber, mags, substrate, output_path)\n",
    "\n",
    "    # Custom method for starting a deposition\n",
    "    def sim_deposition(self, voltages: dict[int, float], dep_rates: dict[int, float]) -> pd.DataFrame:\n",
    "\n",
    "        \"\"\"\n",
    "        Initiates the simulation of the deposition. \n",
    "\n",
    "        :param voltages: voltages of the power supplies\n",
    "        :param dep_rates: measured deposition rates in the center of the substrate\n",
    "        :return: composition in atomic percent\n",
    "        \"\"\"\n",
    "\n",
    "        # Set the voltages on the power supplies as maximum ion energies\n",
    "        elements: list[str] = []\n",
    "        for i, v for voltages.items():\n",
    "            # Find the magnetron with the respective name and set the maximum ion energy\n",
    "            mag = [m for m in self.magnetrons if m.name == 'mag%d' % i][0]\n",
    "            mag.max_ion_energy = v\n",
    "            # Store the deposited element again for later generating the composition\n",
    "            elements.append(mag.transported_element)\n",
    "        # Call the simulate function in the superclass\n",
    "        sim_res = self.simulate(['mag%d' % i for i in voltages.keys()])\n",
    "        # Get the number of particles for every magnetron and flatten the result\n",
    "        n_particles = {i: res.n_particles['substrate'].flatten() for i, res in zip(voltages.keys(), sim_res)}\n",
    "        # Wrap the results in a pandas DataFrame, change the column names to the elements\n",
    "        n_particles = pd.DataFrame.from_dict(n_particles, index=range(1, 442), columns=elements)\n",
    "        # Convert to a deposition profile by normalizing to the center area and multiplying with the deposition rates\n",
    "        dep_profile = n_particles / n_particles.loc[220] * pd.Series(dep_rates)\n",
    "        # Calculate the ratio to arrive at the composition in volume percent\n",
    "        vol = dep_profile.div(dep_profile.sum(axis=1), axis=0) * 100\n",
    "        # Get the density and the atomic of each element \n",
    "        density = pd.Series({e: Element(e).density for e in elements})\n",
    "        at_mass = pd.Series({e: Element(e).atomic_mass for e in elements})\n",
    "        # Return the composition\n",
    "        return (density * vol / at_mass).div(density * volume / at_mass).sum(axis=1), axis=0)"
   ]
  },
  {
   "cell_type": "markdown",
   "id": "5333e3ec-95de-400c-a0bc-6d844b0807c1",
   "metadata": {},
   "source": [
    "## Run the simulation"
   ]
  },
  {
   "cell_type": "code",
   "execution_count": null,
   "id": "f42f1ff5-1217-4bd8-b469-1b3fcd8444fd",
   "metadata": {},
   "outputs": [],
   "source": [
    "# Define the elements\n",
    "elements = {1: 'Ni', 2: 'Pd', 3: 'Pt', 4: 'Ru'}\n",
    "# Define the voltages on the power supplies for every magnetron\n",
    "voltages = {1: 200, 2: 250, 3: 190, 4: 180}  # V\n",
    "# Define the deposition rates, for this example we assume that the deposition rates are independent on the angle\n",
    "dep_rates = {1: 0.04, 2: 0.15, 3: 0.1, 4: 0.05}  # nm/s\n",
    "# Define an output path for the simulation\n",
    "out_path = 'C:/Users/Felix/Desktop/sim_result'\n",
    "\n",
    "# Define the sputter system\n",
    "system = CustomSputterSystem(elements, output_path, tilt=20, n_particles=10**6)\n",
    "# Run the deposition simulation and retrieve the composition\n",
    "composition = system.sim_deposition(voltages, dep_rates)"
   ]
  },
  {
   "cell_type": "markdown",
   "id": "19605aa3-926e-481b-9f16-9f678943528c",
   "metadata": {},
   "source": [
    "## Plot the results"
   ]
  },
  {
   "cell_type": "code",
   "execution_count": null,
   "id": "c37378af-1f43-46a0-a899-b442515a0d9f",
   "metadata": {},
   "outputs": [],
   "source": [
    "# Create a plot with as many subplots as there are elements\n",
    "fig, ax = plt.subplots(1, len(elements), figsize=(len(elements) * 5, 4))\n",
    "\n",
    "# Iterate over the elements and load plot the composition\n",
    "for elem in elements.values():\n",
    "    # Get the composition and reshape it to the original grid (the values are originating from the definition of the substrate in the\n",
    "    # custom sputter system class\n",
    "    xy = np.linspace(-0.05, 0.05, 21)\n",
    "    X, Y = np.meshgrid(xy, sy)\n",
    "    comp = composition[elem].values.reshape(X.shape)\n",
    "    # Plot the composition\n",
    "    pc = ax[i].pcolormesh(X, Y, comp)\n",
    "    # Add axes labels\n",
    "    ax[i].set_xlabel('x [m]')\n",
    "    ax[i].set_ylabel('y [m]')\n",
    "    # Add a title showing the sputtered element\n",
    "    ax[i].set_title(elem)\n",
    "    # Add a colorbar\n",
    "    fig.colorbar(pc, ax=ax[i], label='composition [at. %]')\n",
    "\n",
    "# Adjust layout and show the plot\n",
    "fig.tight_layout()\n",
    "plt.show()"
   ]
  }
 ],
 "metadata": {
  "kernelspec": {
   "display_name": "Python 3 (ipykernel)",
   "language": "python",
   "name": "python3"
  },
  "language_info": {
   "codemirror_mode": {
    "name": "ipython",
    "version": 3
   },
   "file_extension": ".py",
   "mimetype": "text/x-python",
   "name": "python",
   "nbconvert_exporter": "python",
   "pygments_lexer": "ipython3",
   "version": "3.11.0"
  }
 },
 "nbformat": 4,
 "nbformat_minor": 5
}
