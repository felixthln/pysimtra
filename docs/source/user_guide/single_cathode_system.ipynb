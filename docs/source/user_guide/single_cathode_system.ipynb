{
 "cells": [
  {
   "cell_type": "markdown",
   "id": "c93db735-d184-468d-b89b-5f0f98f542c2",
   "metadata": {},
   "source": [
    "# Single-cathode system\n",
    "\n",
    "This guide describes how to set up an exemplary single-cathode system programmatically. *SIMTRA* allows the definition of a sputter system from basic 3D geometries like circles, rectangles, cylinders and cones. Generally, a sputter system always consists of a chamber, one (or multiple) magnetron(s) and one (or multiple) dummy object(s). "
   ]
  },
  {
   "cell_type": "code",
   "execution_count": null,
   "id": "7d81414a-91c5-4d4d-9f64-5a0975028a70",
   "metadata": {},
   "outputs": [],
   "source": [
    "import numpy as np\n",
    "import matplotlib.pyplot as plt\n",
    "import pysimtra as ps"
   ]
  },
  {
   "cell_type": "markdown",
   "id": "02b51b2a-3e0b-4ac0-bdeb-8f1056bd7388",
   "metadata": {},
   "source": [
    "**Note: before starting, make sure that the SIMTRA application was imported into pySIMTRA**\n",
    "\n",
    "If not done, use the following method which copies the *SIMTRA* executable (and some other files cruical for the execution) into the package folder. This only needs to be done ONCE. Calling this method later again will replace the already existing copied files."
   ]
  },
  {
   "cell_type": "code",
   "execution_count": null,
   "id": "2f546afe-258a-4eee-ac9d-ae94d78a5fb8",
   "metadata": {},
   "outputs": [],
   "source": [
    "# Define the path to the SIMTRA application folder\n",
    "sim_path = 'path/to/simtra/directory'\n",
    "# Import the application into the package\n",
    "ps.import_exe(sim_path)"
   ]
  },
  {
   "cell_type": "markdown",
   "id": "0f1d60c0-cab0-49b1-b2f4-324d7fcfc95a",
   "metadata": {},
   "source": [
    "## Set up the chamber\n",
    "\n",
    "The chamber object holds general information about the environment like the temperature and pressure. Either a cylindrical or rectangular chamber can be defined. All units in *SIMTRA* are SI units. Here we will create a cylindrical chamber with a radius of 120 mm and length of 180 mm."
   ]
  },
  {
   "cell_type": "code",
   "execution_count": null,
   "id": "a8f9c55a-ae49-43df-910e-8b72679b9b17",
   "metadata": {},
   "outputs": [],
   "source": [
    "# Create a cylindrical sputter chamber\n",
    "ch = ps.Chamber.cylindrical(radius=0.12, length=0.18, temperature=293, pressure=0.5)"
   ]
  },
  {
   "cell_type": "markdown",
   "id": "035ba25a-fe60-4e0d-b7fa-1cde285f0bea",
   "metadata": {},
   "source": [
    "## Set up the magnetron/cathode\n",
    "\n",
    "The `Magnetron` object holds further parameters of the deposition, like the transported element and the number of particles to simulate. Its geometry is defined via a `DummyObject`, which needs to be built from individual surfaces. Here, we build a standard axialsymmetric magnetron with a circular target from two circles, a cylinder and a cone. Every 3D object (`Surface` or `DummyObject`) always needs to have a position and orientation. If none are defined, it is assumed that `position=(0, 0, 0)` and `orientation=(0, 0, 0)`. When defining the `Magnetron` object, the index of the surface to sputter from needs to be defined via the `sputter_surface_index parameter`. Note here that this value starts at 1 (in contrast to the Python standard) in order to be consistent with *SIMTRA*. "
   ]
  },
  {
   "cell_type": "code",
   "execution_count": null,
   "id": "12af4620-9222-42da-b759-bd2a136286b6",
   "metadata": {},
   "outputs": [],
   "source": [
    "# Construct the magnetron with a 2 inch target from a few simple surfaces\n",
    "target = ps.Circle(name='target', radius=0.0191, position=(0, 0, 0.055))\n",
    "shield = ps.Cone(name='shield', small_rho=0.0191, big_rho=0.023, height=0.005, position=(0, 0, 0.055))\n",
    "cap = ps.Circle(name='cap', radius=0.03, position=(0, 0, 0.06))\n",
    "cap.perforate(by='circle', radius=0.023)\n",
    "body = ps.Cylinder(name='body', radius=0.03, height=0.06)\n",
    "# Combine all surfaces into a dummy object \n",
    "m_object = ps.DummyObject(name='magnetron', surfaces=[target, shield, cap, body])\n",
    "# Define a path to the racetrack file\n",
    "r_path = 'racetracks/Pt_racetrack_1.5_inch.txt'\n",
    "# Finally construct the magnetron\n",
    "mag = ps.Magnetron(transported_element='Pt', \n",
    "                   m_object=m_object, \n",
    "                   n_particles=10**8, \n",
    "                   sputter_surface_index=1,  # the first surface is the target\n",
    "                   racetrack_file_path=r_path,\n",
    "                   max_ion_energy=200)  # eV"
   ]
  },
  {
   "cell_type": "markdown",
   "id": "8000faf3-b6ca-46a6-aeef-23741cf96084",
   "metadata": {},
   "source": [
    "## Set up the dummy object(s)\n",
    "\n",
    "`DummyObject`s are objects without emitting a particle flux. Instead, they allow to track the number of particles hitting their surface. That is why we will define a `DummyObject` to track the number of particles sputtered onto an exemplary substrate. The tracking of the particles can be enabled by setting `save_avg_data=True` and providing an averaging grid by setting `avg_grid`. In this case, the substrate only consists of a single surface."
   ]
  },
  {
   "cell_type": "code",
   "execution_count": null,
   "id": "d2879aa5-714a-4c55-a0be-ad34f118eedd",
   "metadata": {},
   "outputs": [],
   "source": [
    "# Define the size of the substrate (this is reused later when plotting the results)\n",
    "s_dx, s_dy = 0.05, 0.05  # m, m\n",
    "# Create a rectangle to track the particles arrival\n",
    "s_surf = ps.Rectangle(name='subSurface', dx=s_dx, dy=s_dy, save_avg_data=True, avg_grid=(200, 100))\n",
    "# Wrap the rectangle into a dummy object\n",
    "sub = ps.DummyObject(name='substrate', surfaces=[s_surf], position=(0, 0, 0.15))"
   ]
  },
  {
   "cell_type": "markdown",
   "id": "fafbe327-a6c6-43de-837a-f4ea0a0c6a8a",
   "metadata": {},
   "source": [
    "## Define the sputter system\n",
    "\n",
    "Finally, the `SputterSystem` can be defined from the `Chamber`, `Magnetron` and `DummyObject`(s). Additionally, an output path needs to be provided, to which the simulation results will be saved. "
   ]
  },
  {
   "cell_type": "code",
   "execution_count": null,
   "id": "a866db94-b73c-4226-ad54-b648f15ee5b5",
   "metadata": {},
   "outputs": [],
   "source": [
    "# Define an output path for the simulation\n",
    "out_path = 'C:/Users/Felix/Desktop/sim_result'\n",
    "# Combine chamber, magnetron and substrate into a sputter system\n",
    "system = ps.SputterSystem(ch, mag, sub, out_path)"
   ]
  },
  {
   "cell_type": "markdown",
   "id": "7f425fde-2423-413e-804f-b59db8b4a48c",
   "metadata": {},
   "source": [
    "## Saving the sputter system\n",
    "\n",
    "After creation of the system, it can be written to a \".sin\" file e.g. to view it in the GUI version of *SIMTRA*:"
   ]
  },
  {
   "cell_type": "code",
   "execution_count": null,
   "id": "0054fa8e-9524-4218-b5da-84352d805e4d",
   "metadata": {},
   "outputs": [],
   "source": [
    "# Save the Sputter System as a sin file\n",
    "system.to_sin(path='C:/Users/Felix/Desktop/res.sin')"
   ]
  },
  {
   "cell_type": "markdown",
   "id": "3f79a84d-0ed0-4f6d-8c00-8a55449ff65f",
   "metadata": {},
   "source": [
    "## Perform a simulation and plot the results\n",
    "\n",
    "To perform a simulation, only the `simulate()` method needs to be called. As the package is based on a Windows executable, **this part only works on Windows operating systems**."
   ]
  },
  {
   "cell_type": "code",
   "execution_count": null,
   "id": "e12fd39f-a519-42f8-acff-1b8332e86ccc",
   "metadata": {},
   "outputs": [],
   "source": [
    "# Start the simulation\n",
    "result = system.simulate()"
   ]
  },
  {
   "cell_type": "markdown",
   "id": "6b0d2b30-7479-4543-900e-40726e352bb4",
   "metadata": {},
   "source": "The result of the simulation always has the type `SimulationOutput` and wraps all the outputs provided by *SIMTRA*. The most important one is the number of deposited particles, but also other ones like the incidence energy or angle are available. For a full list, see the API reference. Here, we first define a meshgrid for the x and y values before plotting the number of deposited particles with `pcolormesh` plot of `matplotlib`. Since the defined magnetron faced the substrate directly, we see a deposition profile with the maximum in the center of the substrate."
  },
  {
   "cell_type": "code",
   "execution_count": null,
   "id": "cca845fe-32fa-4db3-a11f-c4984a165b7c",
   "metadata": {},
   "outputs": [],
   "source": [
    "# Get the number of particles sputtered onto the substrate\n",
    "n_p = result.n_particles['substrate']\n",
    "# Create a meshgrid for also displaying x and y values\n",
    "x = np.linspace(-s_dx, s_dx, n_p.shape[1])\n",
    "y = np.linspace(-s_dx, s_dx, n_p.shape[0])\n",
    "X, Y = np.meshgrid(x, y)\n",
    "\n",
    "# Plot the particle distribution as a 2D image\n",
    "fig, ax = plt.subplots(figsize=(5, 4))\n",
    "pc = ax.pcolormesh(X, Y, n_p)\n",
    "# Add axes labels\n",
    "ax.set_xlabel('x [m]')\n",
    "ax.set_ylabel('y [m]')\n",
    "# Add a colorbar\n",
    "fig.colorbar(pc, ax=ax, label='number of particles')\n",
    "plt.show()"
   ]
  },
  {
   "cell_type": "markdown",
   "id": "4295d128-2bf0-400c-8652-ebb9ad9a6287",
   "metadata": {},
   "source": "This guide showed how a single-cathode sputter system can be defined with `pySIMTRA`. However, the real potential of the package is the parallel execution of multiple *SIMTRA* simulations at the same time. This makes it possible to simulate multi-cathode systems with no time overhead. To learn more about how to define such a multi-cathode system in `pySIMTRA`, see the next section."
  }
 ],
 "metadata": {
  "kernelspec": {
   "display_name": "Python 3 (ipykernel)",
   "language": "python",
   "name": "python3"
  },
  "language_info": {
   "codemirror_mode": {
    "name": "ipython",
    "version": 3
   },
   "file_extension": ".py",
   "mimetype": "text/x-python",
   "name": "python",
   "nbconvert_exporter": "python",
   "pygments_lexer": "ipython3",
   "version": "3.11.0"
  }
 },
 "nbformat": 4,
 "nbformat_minor": 5
}
