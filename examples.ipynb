{
 "cells": [
  {
   "cell_type": "code",
   "execution_count": 1,
   "id": "6286c278-948c-44a6-9744-d17b94109a43",
   "metadata": {},
   "outputs": [],
   "source": [
    "import sys\n",
    "\n",
    "sys.path.append('/Users/felix/Library/Mobile Documents/com~apple~CloudDocs/PhD/Python Libraries')\n",
    "import pysimtra.src.pysimtra as ps"
   ]
  },
  {
   "cell_type": "markdown",
   "id": "5a1048ad-23bf-4697-a1bd-676fe71193b4",
   "metadata": {},
   "source": [
    "#### Import the SIMTRA executable into the package"
   ]
  },
  {
   "cell_type": "code",
   "execution_count": 2,
   "id": "ef71e4d4-a1b2-4d9c-a039-36390ebc2044",
   "metadata": {},
   "outputs": [],
   "source": [
    "# Define the path to the SIMTRA application folder\n",
    "sim_path = '/Users/felix/Library/Mobile Documents/com~apple~CloudDocs/PhD/Python Libraries/sputtering_simulation/simtra_simulation/simtra_app'\n",
    "# Import the application into the package\n",
    "ps.import_exe(sim_path)"
   ]
  },
  {
   "cell_type": "markdown",
   "id": "a586fb26-4ce8-4c2d-98ab-22feba8b11ec",
   "metadata": {},
   "source": [
    "#### Set up a simple one-cathode sputter system programmatically"
   ]
  },
  {
   "cell_type": "code",
   "execution_count": 4,
   "id": "5c30207f-794e-4f3c-a991-f64426f800df",
   "metadata": {},
   "outputs": [],
   "source": [
    "# Create a cylindrical sputter chamber\n",
    "ch = ps.Chamber.cylindrical(radius=0.12, length=0.18, temperature=293, pressure=0.5)\n",
    "# Construct the magnetron with a 2 inch target from a few simple surfaces\n",
    "target = ps.Circle(name='target', radius=0.0191, position=(0, 0, 0.055))\n",
    "shield = ps.Cone(name='shield', small_rho=0.0191, big_rho=0.023, height=0.005, position=(0, 0, 0.055))\n",
    "cap = ps.Circle(name='cap', radius=0.03, position=(0, 0, 0.06))\n",
    "cap.perforate(by='circle', radius=0.023)\n",
    "body = ps.Cylinder(name='body', radius=0.03, height=0.06)\n",
    "# Combine all surfaces into a dummy object \n",
    "m_object = ps.DummyObject(name='magnetron', surfaces=[target, shield, cap, body])\n",
    "# Define a path to the racetrack file\n",
    "r_path = '/Users/felix/Library/Mobile Documents/com~apple~CloudDocs/PhD/Python Libraries/sputtering_simulation/racetrack_database/racetracks_simtra/1.5inch_target_Ni_#5_EcoChem_24-05-02_thickness_1.27mm_simtra.txt'\n",
    "# Finally construct the magnetron\n",
    "mag = ps.Magnetron(transported_element='Au', \n",
    "                   m_object=m_object, \n",
    "                   n_particles=10**8, \n",
    "                   sputter_surface_index=1,  # the first surface is the target\n",
    "                   racetrack_file_path=r_path,\n",
    "                   max_ion_energy=200)\n",
    "# Create a rectangle to track the particles arrival\n",
    "s_surf = ps.Rectangle(name='subSurface', \n",
    "                      dx=0.05, dy=0.05, \n",
    "                      save_avg_data=True, \n",
    "                      avg_grid=(10, 10))\n",
    "# Wrap the rectangle into a dummy object\n",
    "sub = ps.DummyObject(name='substrate', surfaces=[s_surf], position=(0, 0, 0.15))\n",
    "# Define an output path for the simulation\n",
    "out_path = '/Users/felix/Downloads'\n",
    "# Combine chamber, magnetron and substrate into a sputter system\n",
    "system = ps.SputterSystem(ch, mag, sub, out_path)\n"
   ]
  },
  {
   "cell_type": "code",
   "execution_count": null,
   "id": "0f843f08-e557-4ac6-89d0-ff992a45b9d2",
   "metadata": {},
   "outputs": [],
   "source": [
    "# Save the Sputter System as a sin file\n",
    "system.to_sin(path='/Users/felix/Downloads/res.sin')"
   ]
  },
  {
   "cell_type": "markdown",
   "id": "633c61d1-3904-4820-aea6-8c2f8f2f8722",
   "metadata": {},
   "source": [
    "Perform the simulation. This part only works on Windows operating systems."
   ]
  },
  {
   "cell_type": "code",
   "execution_count": null,
   "id": "80625377-3a4a-4cb0-bf06-e618e954fc48",
   "metadata": {},
   "outputs": [],
   "source": [
    "# Start the simulation\n",
    "results = system.simulate()"
   ]
  },
  {
   "cell_type": "code",
   "execution_count": null,
   "id": "8681f058-cfb7-4943-ba40-68b0d93ddbcc",
   "metadata": {},
   "outputs": [],
   "source": [
    "# Plot the results\n"
   ]
  },
  {
   "cell_type": "code",
   "execution_count": null,
   "id": "c4641b49-6aae-40cc-bc43-701810376248",
   "metadata": {},
   "outputs": [],
   "source": [
    "d = pd.read_csv('/Users/felix/Library/Mobile Documents/com~apple~CloudDocs/PhD/Python Libraries/sputtering_simulation/periodic_table.csv')\n",
    "d = d[['symbol', 'surface_binding_energy']]\n",
    "d.to_csv('/Users/felix/Downloads/table.csv', index=False)"
   ]
  }
 ],
 "metadata": {
  "kernelspec": {
   "display_name": "Python 3 (ipykernel)",
   "language": "python",
   "name": "python3"
  },
  "language_info": {
   "codemirror_mode": {
    "name": "ipython",
    "version": 3
   },
   "file_extension": ".py",
   "mimetype": "text/x-python",
   "name": "python",
   "nbconvert_exporter": "python",
   "pygments_lexer": "ipython3",
   "version": "3.11.0"
  }
 },
 "nbformat": 4,
 "nbformat_minor": 5
}
